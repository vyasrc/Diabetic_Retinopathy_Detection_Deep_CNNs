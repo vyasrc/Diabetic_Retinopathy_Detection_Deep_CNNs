{
  "nbformat": 4,
  "nbformat_minor": 0,
  "metadata": {
    "kernelspec": {
      "language": "python",
      "display_name": "Python 3",
      "name": "python3"
    },
    "language_info": {
      "pygments_lexer": "ipython3",
      "nbconvert_exporter": "python",
      "version": "3.6.4",
      "file_extension": ".py",
      "codemirror_mode": {
        "name": "ipython",
        "version": 3
      },
      "name": "python",
      "mimetype": "text/x-python"
    },
    "colab": {
      "name": "diabetic_retinopathy_detection_resnet34.ipynb",
      "provenance": [],
      "machine_shape": "hm"
    },
    "accelerator": "GPU"
  },
  "cells": [
    {
      "cell_type": "markdown",
      "metadata": {
        "id": "PdLFevcuoidQ"
      },
      "source": [
        "# <center>Diabetic Retinopathy Detection using PyTorch<center>"
      ]
    },
    {
      "cell_type": "markdown",
      "metadata": {
        "id": "iYf9H1uwoidS"
      },
      "source": [
        "### What is Diabetic Retinopathy?\n",
        "Diabetic Retinopathy is a condition that can cause Vision loss and Blindness in the people who have Diabetes. It affects the blood vessels in the Retina. It is one of the leading cause of Blindness across the world. Diabetic retinopathy may not have any symptoms at first, but finding it early can help you take steps to protect your vision. \n",
        "### Problem Statement :\n",
        "The problem is to perform Image Classification. Given an image (fundus photographs), You have to predict which class does the given image belongs to. The Classes to predict are :\n",
        "*  0 - Normal <br>\n",
        "*  1 - Mild <br>\n",
        "*  2 - Moderate <br>\n",
        "*  3 - Severe <br>\n",
        "*  4 - Proliferative <br>"
      ]
    },
    {
      "cell_type": "code",
      "metadata": {
        "colab": {
          "base_uri": "https://localhost:8080/"
        },
        "id": "b-6gIeVgo8Rk",
        "outputId": "c9e340da-bed8-4b2c-ea94-2d0ba7c5aa6b"
      },
      "source": [
        "# Loading your drive so CoLab has access to it\n",
        "from google.colab import drive\n",
        "drive.mount('/content/drive')"
      ],
      "execution_count": null,
      "outputs": [
        {
          "output_type": "stream",
          "name": "stdout",
          "text": [
            "Mounted at /content/drive\n"
          ]
        }
      ]
    },
    {
      "cell_type": "code",
      "metadata": {
        "colab": {
          "base_uri": "https://localhost:8080/"
        },
        "id": "bbd70se1pHHr",
        "outputId": "c30cb294-5418-4a54-904c-8e05397ea57e"
      },
      "source": [
        "cd '/content/drive/MyDrive/NN Final Project/Eye CNN/aptos2019-blindness-detection/'"
      ],
      "execution_count": null,
      "outputs": [
        {
          "output_type": "stream",
          "name": "stdout",
          "text": [
            "/content/drive/MyDrive/NN Final Project/Eye CNN/aptos2019-blindness-detection\n"
          ]
        }
      ]
    },
    {
      "cell_type": "markdown",
      "metadata": {
        "id": "EBjAVoDMoidT"
      },
      "source": [
        "## Import Libraries"
      ]
    },
    {
      "cell_type": "code",
      "metadata": {
        "execution": {
          "iopub.status.busy": "2021-09-04T02:01:52.95699Z",
          "iopub.execute_input": "2021-09-04T02:01:52.957326Z",
          "iopub.status.idle": "2021-09-04T02:01:54.24969Z",
          "shell.execute_reply.started": "2021-09-04T02:01:52.957294Z",
          "shell.execute_reply": "2021-09-04T02:01:54.248862Z"
        },
        "trusted": true,
        "id": "Yg2nB7eYoidT"
      },
      "source": [
        "import pandas as pd #For reading csv files.\n",
        "import numpy as np \n",
        "import matplotlib.pyplot as plt #For plotting.\n",
        "\n",
        "import PIL.Image as Image #For working with image files.\n",
        "\n",
        "#Importing torch\n",
        "import torch\n",
        "import torch.nn as nn\n",
        "import torch.nn.functional as F\n",
        "\n",
        "from torch.utils.data import Dataset,DataLoader #For working with data.\n",
        "\n",
        "from torchvision import models,transforms #For pretrained models,image transformations.\n",
        "\n",
        "from sklearn.metrics import confusion_matrix\n",
        "from sklearn.metrics import precision_score, recall_score, f1_score, accuracy_score\n",
        "from sklearn.metrics import classification_report"
      ],
      "execution_count": null,
      "outputs": []
    },
    {
      "cell_type": "code",
      "metadata": {
        "execution": {
          "iopub.status.busy": "2021-09-04T02:01:54.803172Z",
          "iopub.execute_input": "2021-09-04T02:01:54.803519Z",
          "iopub.status.idle": "2021-09-04T02:01:54.86643Z",
          "shell.execute_reply.started": "2021-09-04T02:01:54.803487Z",
          "shell.execute_reply": "2021-09-04T02:01:54.865522Z"
        },
        "trusted": true,
        "colab": {
          "base_uri": "https://localhost:8080/"
        },
        "id": "n-kSY73xoidU",
        "outputId": "33192f54-5bc3-4240-ac46-0c824ac98b77"
      },
      "source": [
        "device = torch.device('cuda' if torch.cuda.is_available() else 'cpu') #Use GPU if it's available or else use CPU.\n",
        "print(device) #Prints the device we're using."
      ],
      "execution_count": null,
      "outputs": [
        {
          "output_type": "stream",
          "name": "stdout",
          "text": [
            "cpu\n"
          ]
        }
      ]
    },
    {
      "cell_type": "markdown",
      "metadata": {
        "id": "PA9AsLj5oidV"
      },
      "source": [
        "## EDA"
      ]
    },
    {
      "cell_type": "markdown",
      "metadata": {
        "id": "8EbD0fwuoidV"
      },
      "source": [
        "I am using only the data from https://www.kaggle.com/c/aptos2019-blindness-detection/data. If you've more computing resources, you can also use the data from https://www.kaggle.com/c/diabetic-retinopathy-detection/data."
      ]
    },
    {
      "cell_type": "code",
      "metadata": {
        "execution": {
          "iopub.status.busy": "2021-09-04T02:01:58.013809Z",
          "iopub.execute_input": "2021-09-04T02:01:58.014161Z",
          "iopub.status.idle": "2021-09-04T02:01:58.045127Z",
          "shell.execute_reply.started": "2021-09-04T02:01:58.014118Z",
          "shell.execute_reply": "2021-09-04T02:01:58.044236Z"
        },
        "trusted": true,
        "colab": {
          "base_uri": "https://localhost:8080/"
        },
        "id": "_Vfzu-a6oidW",
        "outputId": "fe433118-a387-4ac1-df1f-6f305d8dfa98"
      },
      "source": [
        "# path = \"/kaggle/input/aptos2019-blindness-detection/\"\n",
        "\n",
        "train_df = pd.read_csv('train.csv')\n",
        "print(f'No.of.training_samples: {len(train_df)}')\n",
        "\n",
        "# test_df = pd.read_csv('test.csv')\n",
        "# print(f'No.of.testing_samples: {len(test_df)}')"
      ],
      "execution_count": null,
      "outputs": [
        {
          "output_type": "stream",
          "name": "stdout",
          "text": [
            "No.of.training_samples: 3662\n"
          ]
        }
      ]
    },
    {
      "cell_type": "code",
      "metadata": {
        "execution": {
          "iopub.status.busy": "2021-09-04T02:02:00.386153Z",
          "iopub.execute_input": "2021-09-04T02:02:00.386489Z",
          "iopub.status.idle": "2021-09-04T02:02:00.542706Z",
          "shell.execute_reply.started": "2021-09-04T02:02:00.386458Z",
          "shell.execute_reply": "2021-09-04T02:02:00.541725Z"
        },
        "trusted": true,
        "colab": {
          "base_uri": "https://localhost:8080/",
          "height": 265
        },
        "id": "DJdUABR5oidW",
        "outputId": "0b4f7c80-b31b-40d3-fe90-0bab89cf4521"
      },
      "source": [
        "#Histogram of label counts.\n",
        "train_df.diagnosis.hist()\n",
        "plt.xticks([0,1,2,3,4])\n",
        "plt.grid(False)\n",
        "plt.show() "
      ],
      "execution_count": null,
      "outputs": [
        {
          "output_type": "display_data",
          "data": {
            "image/png": "[encoded data removed]",
            "text/plain": [
              "<Figure size 432x288 with 1 Axes>"
            ]
          },
          "metadata": {
            "needs_background": "light"
          }
        }
      ]
    },
    {
      "cell_type": "code",
      "metadata": {
        "execution": {
          "iopub.status.busy": "2021-09-04T02:02:03.769365Z",
          "iopub.execute_input": "2021-09-04T02:02:03.769716Z",
          "iopub.status.idle": "2021-09-04T02:02:08.652868Z",
          "shell.execute_reply.started": "2021-09-04T02:02:03.769664Z",
          "shell.execute_reply": "2021-09-04T02:02:08.651866Z"
        },
        "trusted": true,
        "colab": {
          "base_uri": "https://localhost:8080/"
        },
        "id": "-5AVcOV2oidX",
        "outputId": "2f88fcea-e335-48ca-9468-51549d5ffecb"
      },
      "source": [
        "#As you can see,the data is imbalanced.\n",
        "#So we've to calculate weights for each class,which can be used in calculating loss.\n",
        "\n",
        "from sklearn.utils import class_weight #For calculating weights for each class.\n",
        "class_weights = class_weight.compute_class_weight(class_weight='balanced',classes=np.array([0,1,2,3,4]),y=train_df['diagnosis'].values)\n",
        "class_weights = torch.tensor(class_weights,dtype=torch.float).to(device)\n",
        " \n",
        "print(class_weights) #Prints the calculated weights for the classes."
      ],
      "execution_count": null,
      "outputs": [
        {
          "output_type": "stream",
          "name": "stdout",
          "text": [
            "tensor([0.4058, 1.9795, 0.7331, 3.7948, 2.4827])\n"
          ]
        }
      ]
    },
    {
      "cell_type": "code",
      "metadata": {
        "execution": {
          "iopub.status.busy": "2021-09-04T02:02:08.654287Z",
          "iopub.execute_input": "2021-09-04T02:02:08.654565Z",
          "iopub.status.idle": "2021-09-04T02:02:08.993783Z",
          "shell.execute_reply.started": "2021-09-04T02:02:08.654538Z",
          "shell.execute_reply": "2021-09-04T02:02:08.992945Z"
        },
        "trusted": true,
        "colab": {
          "base_uri": "https://localhost:8080/",
          "height": 264
        },
        "id": "FkVEYpU-oidX",
        "outputId": "f7c7599d-e6a2-4a49-bc17-197b10b111f3"
      },
      "source": [
        "#For getting a random image from our training set.\n",
        "num = int(np.random.randint(0,len(train_df)-1,(1,))) #Picks a random number.\n",
        "sample_image = (f'train_images/{train_df[\"id_code\"][num]}.png')#Image file.\n",
        "sample_image = Image.open(sample_image) \n",
        "plt.imshow(sample_image)\n",
        "plt.axis('off')\n",
        "plt.title(f'Class: {train_df[\"diagnosis\"][num]}') #Class of the random image.\n",
        "plt.show()"
      ],
      "execution_count": null,
      "outputs": [
        {
          "output_type": "display_data",
          "data": {
            "image/png": "[encoded data removed]",
            "text/plain": [
              "<Figure size 432x288 with 1 Axes>"
            ]
          },
          "metadata": {
            "needs_background": "light"
          }
        }
      ]
    },
    {
      "cell_type": "markdown",
      "metadata": {
        "id": "JnjqJuPNoidX"
      },
      "source": [
        "## Preprocess the Data"
      ]
    },
    {
      "cell_type": "code",
      "metadata": {
        "execution": {
          "iopub.status.busy": "2021-09-04T02:02:08.995227Z",
          "iopub.execute_input": "2021-09-04T02:02:08.995564Z",
          "iopub.status.idle": "2021-09-04T02:02:09.00331Z",
          "shell.execute_reply.started": "2021-09-04T02:02:08.99553Z",
          "shell.execute_reply": "2021-09-04T02:02:09.002441Z"
        },
        "trusted": true,
        "id": "VecyHOHcoidX"
      },
      "source": [
        "class dataset(Dataset): # Inherits from the Dataset class.\n",
        "    '''\n",
        "    dataset class overloads the __init__, __len__, __getitem__ methods of the Dataset class. \n",
        "    \n",
        "    Attributes :\n",
        "        df:  DataFrame object for the csv file.\n",
        "        data_path: Location of the dataset.\n",
        "        image_transform: Transformations to apply to the image.\n",
        "        train: A boolean indicating whether it is a training_set or not.\n",
        "    '''\n",
        "    \n",
        "    def __init__(self,df,data_path,image_transform=None,train=True): # Constructor.\n",
        "        super(Dataset,self).__init__() #Calls the constructor of the Dataset class.\n",
        "        self.df = df\n",
        "        self.data_path = data_path\n",
        "        self.image_transform = image_transform\n",
        "        self.train = train\n",
        "        \n",
        "    def __len__(self):\n",
        "        return len(self.df) #Returns the number of samples in the dataset.\n",
        "    \n",
        "    def __getitem__(self,index):\n",
        "        image_id = self.df['id_code'][index]\n",
        "        image = Image.open(f'{self.data_path}/{image_id}.png') #Image.\n",
        "        if self.image_transform :\n",
        "            image = self.image_transform(image) #Applies transformation to the image.\n",
        "        \n",
        "        if self.train :\n",
        "            label = self.df['diagnosis'][index] #Label.\n",
        "            return image,label #If train == True, return image & label.\n",
        "        \n",
        "        else:\n",
        "            return image #If train != True, return image.\n",
        "            "
      ],
      "execution_count": null,
      "outputs": []
    },
    {
      "cell_type": "code",
      "metadata": {
        "execution": {
          "iopub.status.busy": "2021-09-04T02:02:16.016876Z",
          "iopub.execute_input": "2021-09-04T02:02:16.017211Z",
          "iopub.status.idle": "2021-09-04T02:02:16.027151Z",
          "shell.execute_reply.started": "2021-09-04T02:02:16.017178Z",
          "shell.execute_reply": "2021-09-04T02:02:16.026231Z"
        },
        "trusted": true,
        "id": "DW2EAZbtoidY"
      },
      "source": [
        "image_transform = transforms.Compose([transforms.Resize([512,512]),\n",
        "                                      transforms.ToTensor(),\n",
        "                                      transforms.Normalize((0.485, 0.456, 0.406), (0.229, 0.224, 0.225))]) #Transformations to apply to the image.\n",
        "data_set = dataset(train_df,'train_images',image_transform=image_transform)\n",
        "\n",
        "#Split the data_set so that valid_set contains 0.1 samples of the data_set. \n",
        "train_set,valid_set = torch.utils.data.random_split(data_set,[3302,360])\n",
        "valid_set,test_set = torch.utils.data.random_split(valid_set,[200,160])\n",
        "# print(torch.unique(train_set))"
      ],
      "execution_count": null,
      "outputs": []
    },
    {
      "cell_type": "code",
      "metadata": {
        "colab": {
          "base_uri": "https://localhost:8080/"
        },
        "id": "V99SOTcpTg95",
        "outputId": "787530e5-bc7f-43d9-d318-dac21e1f2d7a"
      },
      "source": [
        "y_valid_values = [y for x,y in valid_set]\n",
        "print(np.unique(y_valid_values, return_counts=True))\n",
        "\n",
        "y_test_values = [y for x,y in test_set]\n",
        "print(np.unique(y_test_values, return_counts=True))"
      ],
      "execution_count": null,
      "outputs": [
        {
          "output_type": "stream",
          "name": "stdout",
          "text": [
            "(array([0, 1, 2, 3, 4]), array([104,  17,  51,  13,  15]))\n",
            "(array([0, 1, 2, 3, 4]), array([85, 20, 35, 10, 10]))\n"
          ]
        }
      ]
    },
    {
      "cell_type": "code",
      "metadata": {
        "execution": {
          "iopub.status.busy": "2021-09-04T02:02:18.146152Z",
          "iopub.execute_input": "2021-09-04T02:02:18.14649Z",
          "iopub.status.idle": "2021-09-04T02:02:18.151906Z",
          "shell.execute_reply.started": "2021-09-04T02:02:18.146459Z",
          "shell.execute_reply": "2021-09-04T02:02:18.151037Z"
        },
        "trusted": true,
        "id": "3oJ_pR4AoidZ"
      },
      "source": [
        "train_dataloader = DataLoader(train_set,batch_size=32,shuffle=True) #DataLoader for train_set.\n",
        "valid_dataloader = DataLoader(valid_set,batch_size=32,shuffle=False) #DataLoader for validation_set."
      ],
      "execution_count": null,
      "outputs": []
    },
    {
      "cell_type": "markdown",
      "metadata": {
        "id": "sGrqmROtoidZ"
      },
      "source": [
        "## Build the Model"
      ]
    },
    {
      "cell_type": "code",
      "metadata": {
        "execution": {
          "iopub.status.busy": "2021-09-04T02:02:20.832017Z",
          "iopub.execute_input": "2021-09-04T02:02:20.832396Z",
          "iopub.status.idle": "2021-09-04T02:02:24.714644Z",
          "shell.execute_reply.started": "2021-09-04T02:02:20.832365Z",
          "shell.execute_reply": "2021-09-04T02:02:24.713818Z"
        },
        "trusted": true,
        "id": "EKCuNb21oidZ"
      },
      "source": [
        "#Since we've less data, we'll use Transfer learning.\n",
        "model = models.resnet34(pretrained=True) #Downloads the resnet34 model which is pretrained on Imagenet dataset.\n",
        "\n",
        "#Replace the Final layer of pretrained resnet34 with 4 new layers.\n",
        "model.fc = nn.Sequential(nn.Linear(512,256),\n",
        "                         nn.ReLU(inplace=True),\n",
        "                         nn.Linear(256,128),\n",
        "                         nn.ReLU(inplace=True),\n",
        "                         nn.Linear(128,64),\n",
        "                         nn.ReLU(inplace=True),\n",
        "                         nn.Linear(64,5),    \n",
        "                    )"
      ],
      "execution_count": null,
      "outputs": []
    },
    {
      "cell_type": "code",
      "metadata": {
        "execution": {
          "iopub.status.busy": "2021-09-04T02:02:27.050331Z",
          "iopub.execute_input": "2021-09-04T02:02:27.050667Z",
          "iopub.status.idle": "2021-09-04T02:02:27.089553Z",
          "shell.execute_reply.started": "2021-09-04T02:02:27.050636Z",
          "shell.execute_reply": "2021-09-04T02:02:27.08877Z"
        },
        "trusted": true,
        "id": "OgGSeReloidZ",
        "colab": {
          "base_uri": "https://localhost:8080/",
          "height": 178
        },
        "outputId": "3d80ece5-eba6-4784-f36a-58ac74409b7d"
      },
      "source": [
        "model = model.to(device) #Moves the model to the device.\n",
        "# print(model)"
      ],
      "execution_count": null,
      "outputs": [
        {
          "output_type": "error",
          "ename": "NameError",
          "evalue": "ignored",
          "traceback": [
            "\u001b[0;31m---------------------------------------------------------------------------\u001b[0m",
            "\u001b[0;31mNameError\u001b[0m                                 Traceback (most recent call last)",
            "\u001b[0;32m<ipython-input-14-620b57d35900>\u001b[0m in \u001b[0;36m<module>\u001b[0;34m()\u001b[0m\n\u001b[0;32m----> 1\u001b[0;31m \u001b[0mmodel\u001b[0m \u001b[0;34m=\u001b[0m \u001b[0mmodel\u001b[0m\u001b[0;34m.\u001b[0m\u001b[0mto\u001b[0m\u001b[0;34m(\u001b[0m\u001b[0mdevice\u001b[0m\u001b[0;34m)\u001b[0m \u001b[0;31m#Moves the model to the device.\u001b[0m\u001b[0;34m\u001b[0m\u001b[0;34m\u001b[0m\u001b[0m\n\u001b[0m\u001b[1;32m      2\u001b[0m \u001b[0;31m# print(model)\u001b[0m\u001b[0;34m\u001b[0m\u001b[0;34m\u001b[0m\u001b[0;34m\u001b[0m\u001b[0m\n",
            "\u001b[0;31mNameError\u001b[0m: name 'model' is not defined"
          ]
        }
      ]
    },
    {
      "cell_type": "markdown",
      "metadata": {
        "id": "F3uUPyQioidZ"
      },
      "source": [
        "## Create functions for Training & Validation"
      ]
    },
    {
      "cell_type": "code",
      "metadata": {
        "execution": {
          "iopub.status.busy": "2021-09-04T02:02:29.502103Z",
          "iopub.execute_input": "2021-09-04T02:02:29.502425Z",
          "iopub.status.idle": "2021-09-04T02:02:29.51282Z",
          "shell.execute_reply.started": "2021-09-04T02:02:29.502396Z",
          "shell.execute_reply": "2021-09-04T02:02:29.511828Z"
        },
        "trusted": true,
        "id": "jQokZdJtoida"
      },
      "source": [
        "def train(dataloader,model,loss_fn,optimizer):\n",
        "    '''\n",
        "    train function updates the weights of the model based on the\n",
        "    loss using the optimizer in order to get a lower loss.\n",
        "    \n",
        "    Args :\n",
        "         dataloader: Iterator for the batches in the data_set.\n",
        "         model: Given an input produces an output by multiplying the input with the model weights.\n",
        "         loss_fn: Calculates the discrepancy between the label & the model's predictions.\n",
        "         optimizer: Updates the model weights.\n",
        "         \n",
        "    Returns :\n",
        "         Average loss per batch which is calculated by dividing the losses for all the batches\n",
        "         with the number of batches.\n",
        "    '''\n",
        "\n",
        "    model.train() #Sets the model for training.\n",
        "    \n",
        "    total = 0\n",
        "    correct = 0\n",
        "    running_loss = 0\n",
        "    \n",
        "    for batch,(x,y) in enumerate(dataloader): #Iterates through the batches.\n",
        "        \n",
        "        output = model(x.to(device)) #model's predictions.\n",
        "        loss   = loss_fn(output,y.to(device)) #loss calculation.\n",
        "       \n",
        "        running_loss += loss.item()\n",
        "        \n",
        "        total        += y.size(0)\n",
        "        predictions   = output.argmax(dim=1).cpu().detach() #Index for the highest score for all the samples in the batch.\n",
        "        correct      += (predictions == y.cpu().detach()).sum().item() #No.of.cases where model's predictions are equal to the label.\n",
        "        \n",
        "        optimizer.zero_grad() #Gradient values are set to zero.\n",
        "        loss.backward() #Calculates the gradients.\n",
        "        optimizer.step() #Updates the model weights.\n",
        "             \n",
        "    \n",
        "    avg_loss = running_loss/len(dataloader) # Average loss for a single batch\n",
        "    \n",
        "    print(f'\\nTraining Loss = {avg_loss:.6f}',end='\\t')\n",
        "    print(f'Accuracy on Training set = {100*(correct/total):.6f}% [{correct}/{total}]') #Prints the Accuracy.\n",
        "    \n",
        "    return avg_loss"
      ],
      "execution_count": null,
      "outputs": []
    },
    {
      "cell_type": "code",
      "metadata": {
        "execution": {
          "iopub.status.busy": "2021-09-04T02:02:33.916197Z",
          "iopub.execute_input": "2021-09-04T02:02:33.916514Z",
          "iopub.status.idle": "2021-09-04T02:02:33.924004Z",
          "shell.execute_reply.started": "2021-09-04T02:02:33.916484Z",
          "shell.execute_reply": "2021-09-04T02:02:33.922873Z"
        },
        "trusted": true,
        "id": "v8U-BPTroida"
      },
      "source": [
        "def validate(dataloader,model,loss_fn):\n",
        "    '''\n",
        "    validate function calculates the average loss per batch and the accuracy of the model's predictions.\n",
        "    \n",
        "    Args :\n",
        "         dataloader: Iterator for the batches in the data_set.\n",
        "         model: Given an input produces an output by multiplying the input with the model weights.\n",
        "         loss_fn: Calculates the discrepancy between the label & the model's predictions.\n",
        "    \n",
        "    Returns :\n",
        "         Average loss per batch which is calculated by dividing the losses for all the batches\n",
        "         with the number of batches.\n",
        "    '''\n",
        "    \n",
        "    model.eval() #Sets the model for evaluation.\n",
        "    \n",
        "    total = 0\n",
        "    correct = 0\n",
        "    running_loss = 0\n",
        "    \n",
        "    \n",
        "    with torch.no_grad(): #No need to calculate the gradients.\n",
        "        \n",
        "        for x,y in dataloader:\n",
        "            \n",
        "            output        = model(x.to(device)) #model's output.\n",
        "            loss          = loss_fn(output,y.to(device)).item() #loss calculation.\n",
        "            running_loss += loss\n",
        "            \n",
        "            total        += y.size(0)\n",
        "            predictions   = output.argmax(dim=1).cpu().detach()\n",
        "            correct      += (predictions == y.cpu().detach()).sum().item()\n",
        "            \n",
        "    avg_loss = running_loss/len(dataloader) #Average loss per batch.      \n",
        "    \n",
        "    print(f'\\nValidation Loss = {avg_loss:.6f}',end='\\t')\n",
        "    print(f'Accuracy on Validation set = {100*(correct/total):.6f}% [{correct}/{total}]') #Prints the Accuracy.  \n",
        "    \n",
        "    return avg_loss, (correct/total)"
      ],
      "execution_count": null,
      "outputs": []
    },
    {
      "cell_type": "markdown",
      "metadata": {
        "id": "alpD5OAIoida"
      },
      "source": [
        "## Optimize the Model"
      ]
    },
    {
      "cell_type": "code",
      "metadata": {
        "execution": {
          "iopub.status.busy": "2021-09-04T02:02:37.779374Z",
          "iopub.execute_input": "2021-09-04T02:02:37.779709Z",
          "iopub.status.idle": "2021-09-04T02:02:37.786087Z",
          "shell.execute_reply.started": "2021-09-04T02:02:37.77966Z",
          "shell.execute_reply": "2021-09-04T02:02:37.784673Z"
        },
        "trusted": true,
        "id": "E-EyfrTUoida"
      },
      "source": [
        "def optimize(train_dataloader,valid_dataloader,model,loss_fn,optimizer,nb_epochs):\n",
        "    '''\n",
        "    optimize function calls the train & validate functions for (nb_epochs) times.\n",
        "    \n",
        "    Args :\n",
        "        train_dataloader: DataLoader for the train_set.\n",
        "        valid_dataloader: DataLoader for the valid_set.\n",
        "        model: Given an input produces an output by multiplying the input with the model weights.\n",
        "        loss_fn: Calculates the discrepancy between the label & the model's predictions.\n",
        "        optimizer: Updates the model weights.\n",
        "        nb_epochs: Number of epochs.\n",
        "        \n",
        "    Returns :\n",
        "        Tuple of lists containing losses for all the epochs.\n",
        "    '''\n",
        "    #Lists to store losses for all the epochs.\n",
        "    train_losses = []\n",
        "    valid_losses = []\n",
        "    best_acc = 0\n",
        "\n",
        "    for epoch in range(nb_epochs):\n",
        "        print(f'\\nEpoch {epoch+1}/{nb_epochs}')\n",
        "        print('-------------------------------')\n",
        "        train_loss = train(train_dataloader,model,loss_fn,optimizer) #Calls the train function.\n",
        "        train_losses.append(train_loss)\n",
        "        valid_loss, acc = validate(valid_dataloader,model,loss_fn) #Calls the validate function.\n",
        "        valid_losses.append(valid_loss)\n",
        "        #Save the model\n",
        "        if acc > best_acc:\n",
        "            best_acc = acc\n",
        "            torch.save(model,'CNN_for_DR_resnet34_20.pth')\n",
        "    \n",
        "    print('\\nTraining has completed!')\n",
        "    \n",
        "    return train_losses,valid_losses"
      ],
      "execution_count": null,
      "outputs": []
    },
    {
      "cell_type": "code",
      "metadata": {
        "execution": {
          "iopub.status.busy": "2021-09-04T02:02:43.490046Z",
          "iopub.execute_input": "2021-09-04T02:02:43.490377Z"
        },
        "trusted": true,
        "colab": {
          "base_uri": "https://localhost:8080/"
        },
        "id": "ILUj6HzDoidb",
        "outputId": "cf13690a-af71-4e72-8775-252ee765b16a"
      },
      "source": [
        "loss_fn   = nn.CrossEntropyLoss(weight=class_weights) #CrossEntropyLoss with class_weights.\n",
        "optimizer = torch.optim.SGD(model.parameters(),lr=0.001) \n",
        "nb_epochs = 20\n",
        "#Call the optimize function.\n",
        "train_losses, valid_losses = optimize(train_dataloader,valid_dataloader,model,loss_fn,optimizer,nb_epochs)"
      ],
      "execution_count": null,
      "outputs": [
        {
          "output_type": "stream",
          "name": "stdout",
          "text": [
            "\n",
            "Epoch 1/20\n",
            "-------------------------------\n",
            "\n",
            "Training Loss = 1.561458\tAccuracy on Training set = 54.663840% [1805/3302]\n",
            "\n",
            "Validation Loss = 1.549809\tAccuracy on Validation set = 57.000000% [114/200]\n",
            "\n",
            "Epoch 2/20\n",
            "-------------------------------\n",
            "\n",
            "Training Loss = 1.552172\tAccuracy on Training set = 55.814658% [1843/3302]\n",
            "\n",
            "Validation Loss = 1.538208\tAccuracy on Validation set = 57.000000% [114/200]\n",
            "\n",
            "Epoch 3/20\n",
            "-------------------------------\n",
            "\n",
            "Training Loss = 1.540069\tAccuracy on Training set = 56.450636% [1864/3302]\n",
            "\n",
            "Validation Loss = 1.525664\tAccuracy on Validation set = 59.000000% [118/200]\n",
            "\n",
            "Epoch 4/20\n",
            "-------------------------------\n",
            "\n",
            "Training Loss = 1.527960\tAccuracy on Training set = 57.177468% [1888/3302]\n",
            "\n",
            "Validation Loss = 1.507466\tAccuracy on Validation set = 58.000000% [116/200]\n",
            "\n",
            "Epoch 5/20\n",
            "-------------------------------\n",
            "\n",
            "Training Loss = 1.509249\tAccuracy on Training set = 57.601454% [1902/3302]\n",
            "\n",
            "Validation Loss = 1.488366\tAccuracy on Validation set = 61.500000% [123/200]\n",
            "\n",
            "Epoch 6/20\n",
            "-------------------------------\n",
            "\n",
            "Training Loss = 1.489015\tAccuracy on Training set = 58.267717% [1924/3302]\n",
            "\n",
            "Validation Loss = 1.464769\tAccuracy on Validation set = 61.000000% [122/200]\n",
            "\n",
            "Epoch 7/20\n",
            "-------------------------------\n",
            "\n",
            "Training Loss = 1.464379\tAccuracy on Training set = 58.509994% [1932/3302]\n",
            "\n",
            "Validation Loss = 1.437464\tAccuracy on Validation set = 61.000000% [122/200]\n",
            "\n",
            "Epoch 8/20\n",
            "-------------------------------\n",
            "\n",
            "Training Loss = 1.435549\tAccuracy on Training set = 58.843125% [1943/3302]\n",
            "\n",
            "Validation Loss = 1.401867\tAccuracy on Validation set = 60.000000% [120/200]\n",
            "\n",
            "Epoch 9/20\n",
            "-------------------------------\n",
            "\n",
            "Training Loss = 1.402732\tAccuracy on Training set = 58.994549% [1948/3302]\n",
            "\n",
            "Validation Loss = 1.368220\tAccuracy on Validation set = 61.500000% [123/200]\n",
            "\n",
            "Epoch 10/20\n",
            "-------------------------------\n",
            "\n",
            "Training Loss = 1.369476\tAccuracy on Training set = 59.115687% [1952/3302]\n",
            "\n",
            "Validation Loss = 1.334694\tAccuracy on Validation set = 61.000000% [122/200]\n",
            "\n",
            "Epoch 11/20\n",
            "-------------------------------\n"
          ]
        }
      ]
    },
    {
      "cell_type": "code",
      "metadata": {
        "execution": {
          "iopub.status.busy": "2021-08-14T13:55:04.532527Z",
          "iopub.status.idle": "2021-08-14T13:55:04.53309Z"
        },
        "trusted": true,
        "id": "B7piDMWcoidb",
        "colab": {
          "base_uri": "https://localhost:8080/",
          "height": 295
        },
        "outputId": "bc273873-1af3-4435-bd46-feeabcf99486"
      },
      "source": [
        "#Plot the graph of train_losses & valid_losses against nb_epochs.\n",
        "epochs = range(nb_epochs)\n",
        "plt.plot(epochs, train_losses, 'g', label='Training loss')\n",
        "plt.plot(epochs, valid_losses, 'b', label='validation loss')\n",
        "plt.title('Training and Validation loss')\n",
        "plt.xlabel('Epochs')\n",
        "plt.ylabel('Loss')\n",
        "plt.legend()\n",
        "plt.savefig('ResNet 34 Loss 20 Iterations')\n",
        "plt.show()"
      ],
      "execution_count": null,
      "outputs": [
        {
          "output_type": "display_data",
          "data": {
            "image/png": "[encoded data removed]",
            "text/plain": [
              "<Figure size 432x288 with 1 Axes>"
            ]
          },
          "metadata": {
            "needs_background": "light"
          }
        }
      ]
    },
    {
      "cell_type": "markdown",
      "metadata": {
        "id": "G6UlqYvFoidb"
      },
      "source": [
        "## Testing the model"
      ]
    },
    {
      "cell_type": "code",
      "metadata": {
        "id": "JEL6WjlGVTCh"
      },
      "source": [
        "# Loading the best model\n",
        "model = torch.load('CNN_for_DR_resnet34_20.pth', map_location=device)"
      ],
      "execution_count": null,
      "outputs": []
    },
    {
      "cell_type": "code",
      "metadata": {
        "execution": {
          "iopub.execute_input": "2021-08-12T14:32:02.431859Z",
          "iopub.status.busy": "2021-08-12T14:32:02.431531Z",
          "iopub.status.idle": "2021-08-12T14:32:02.436917Z",
          "shell.execute_reply": "2021-08-12T14:32:02.435814Z",
          "shell.execute_reply.started": "2021-08-12T14:32:02.43183Z"
        },
        "id": "9IQYj5V2oidb"
      },
      "source": [
        "# test_set = dataset(test_df,'test_images',image_transform = image_transform,train = False )\n",
        "test_dataloader = DataLoader(test_set, batch_size=32, shuffle=False) #DataLoader for test_set."
      ],
      "execution_count": null,
      "outputs": []
    },
    {
      "cell_type": "code",
      "metadata": {
        "execution": {
          "iopub.execute_input": "2021-08-13T16:17:31.200706Z",
          "iopub.status.busy": "2021-08-13T16:17:31.200353Z",
          "iopub.status.idle": "2021-08-13T16:17:31.206763Z",
          "shell.execute_reply": "2021-08-13T16:17:31.205783Z",
          "shell.execute_reply.started": "2021-08-13T16:17:31.200665Z"
        },
        "id": "AbLzG_qXoidc"
      },
      "source": [
        "def test(dataloader,model):\n",
        "    '''\n",
        "    test function predicts the labels given an image batches.\n",
        "    \n",
        "    Args :\n",
        "         dataloader: DataLoader for the test_set.\n",
        "         model: Given an input produces an output by multiplying the input with the model weights.\n",
        "         \n",
        "    Returns :\n",
        "         List of predicted labels.\n",
        "    '''\n",
        "    \n",
        "    model.eval() #Sets the model for evaluation.\n",
        "    \n",
        "    y_true = []\n",
        "    y_pred = [] #List to store the predicted labels.\n",
        "    \n",
        "    with torch.no_grad():\n",
        "        \n",
        "        for x,y in dataloader:\n",
        "            \n",
        "            y_true.extend(y)\n",
        "            output = model(x.to(device))\n",
        "            predictions = output.argmax(dim=1).cpu().detach().tolist() #Predicted labels for an image batch.\n",
        "            y_pred.extend(predictions)\n",
        "                \n",
        "    print('Testing has completed')\n",
        "            \n",
        "    return y_true, y_pred                "
      ],
      "execution_count": null,
      "outputs": []
    },
    {
      "cell_type": "code",
      "metadata": {
        "execution": {
          "iopub.execute_input": "2021-08-12T14:32:06.861188Z",
          "iopub.status.busy": "2021-08-12T14:32:06.860871Z",
          "iopub.status.idle": "2021-08-12T14:34:17.70782Z",
          "shell.execute_reply": "2021-08-12T14:34:17.706981Z",
          "shell.execute_reply.started": "2021-08-12T14:32:06.861158Z"
        },
        "id": "0CV3Ua68oidc",
        "colab": {
          "base_uri": "https://localhost:8080/"
        },
        "outputId": "d1b80e88-74e4-46fa-c4de-98fd4eac6833"
      },
      "source": [
        "y_true, y_pred = test(test_dataloader,model) #Calls the test function.\n",
        "print(len(y_true), len(y_pred))"
      ],
      "execution_count": null,
      "outputs": [
        {
          "output_type": "stream",
          "name": "stdout",
          "text": [
            "Testing has completed\n",
            "160 160\n"
          ]
        }
      ]
    },
    {
      "cell_type": "code",
      "metadata": {
        "execution": {
          "iopub.execute_input": "2021-08-12T14:34:24.146366Z",
          "iopub.status.busy": "2021-08-12T14:34:24.146018Z",
          "iopub.status.idle": "2021-08-12T14:34:24.161448Z",
          "shell.execute_reply": "2021-08-12T14:34:24.160172Z",
          "shell.execute_reply.started": "2021-08-12T14:34:24.146332Z"
        },
        "id": "NbRplSoZoidc",
        "colab": {
          "base_uri": "https://localhost:8080/",
          "height": 358
        },
        "outputId": "4f59ab31-3f35-404e-8b60-506bdbd8ff0b"
      },
      "source": [
        "conf_matrix = confusion_matrix(y_true=y_true, y_pred=y_pred)\n",
        "fig, ax = plt.subplots(figsize=(5, 5))\n",
        "ax.matshow(conf_matrix, cmap=plt.cm.Oranges, alpha=0.3)\n",
        "for i in range(conf_matrix.shape[0]):\n",
        "    for j in range(conf_matrix.shape[1]):\n",
        "        ax.text(x=j, y=i,s=conf_matrix[i, j], va='center', ha='center', size='xx-large')\n",
        " \n",
        "plt.xlabel('Predictions', fontsize=18)\n",
        "plt.ylabel('Actuals', fontsize=18)\n",
        "plt.title('Confusion Matrix', fontsize=18)\n",
        "plt.savefig('Confusion Matrix for ResNet34 layer 10 Iterations')\n",
        "plt.show()"
      ],
      "execution_count": null,
      "outputs": [
        {
          "output_type": "display_data",
          "data": {
            "image/png": "[encoded data removed]",
            "text/plain": [
              "<Figure size 360x360 with 1 Axes>"
            ]
          },
          "metadata": {
            "needs_background": "light"
          }
        }
      ]
    },
    {
      "cell_type": "code",
      "metadata": {
        "colab": {
          "base_uri": "https://localhost:8080/"
        },
        "id": "_H1F0cTBoTew",
        "outputId": "0c5692dd-eb0d-4106-a2cb-8ae9c18843dc"
      },
      "source": [
        "target_names = ['Normal', 'Mild', 'Moderate', 'Severe', 'Proliferative']\n",
        "\n",
        "print(classification_report(y_true, y_pred, target_names=target_names))"
      ],
      "execution_count": null,
      "outputs": [
        {
          "output_type": "stream",
          "name": "stdout",
          "text": [
            "               precision    recall  f1-score   support\n",
            "\n",
            "       Normal       0.88      0.99      0.93        85\n",
            "         Mild       0.50      0.65      0.57        20\n",
            "     Moderate       0.00      0.00      0.00        35\n",
            "       Severe       0.26      0.90      0.41        10\n",
            "Proliferative       0.25      0.10      0.14        10\n",
            "\n",
            "     accuracy                           0.67       160\n",
            "    macro avg       0.38      0.53      0.41       160\n",
            " weighted avg       0.56      0.67      0.60       160\n",
            "\n"
          ]
        },
        {
          "output_type": "stream",
          "name": "stderr",
          "text": [
            "/usr/local/lib/python3.7/dist-packages/sklearn/metrics/_classification.py:1272: UndefinedMetricWarning: Precision and F-score are ill-defined and being set to 0.0 in labels with no predicted samples. Use `zero_division` parameter to control this behavior.\n",
            "  _warn_prf(average, modifier, msg_start, len(result))\n"
          ]
        }
      ]
    }
  ]
}